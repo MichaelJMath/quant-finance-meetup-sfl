{
 "cells": [
  {
   "cell_type": "markdown",
   "metadata": {},
   "source": [
    "# Why Pandas?\n",
    "\n",
    "Pandas is another package that provides data structures to aid in data analysis. As you will see, pandas has many similarities to numpy. This is largely because pandas actually wraps around numpy and adds additional functionality. \n",
    "\n",
    "On [Stack Overflow](https://stackoverflow.com/questions/11077023/what-are-the-differences-between-pandas-and-numpyscipy-in-python), Wes McKinney, the primary author of Pandas, answered a user's question on regarding the differences between Numpy and Pandas:\n",
    "\n",
    ">\"Indeed, pandas provides high level data manipulation tools built on top of NumPy. NumPy by itself is a fairly low-level tool, and will be very much similar to using MATLAB. pandas on the other hand provides rich time series functionality, data alignment, NA-friendly statistics, groupby, merge and join methods, and lots of other conveniences. It has become very popular in recent years in financial applications.\"\n",
    "\n",
    "To summarize this, pandas provides the following functionality on top of numpy:\n",
    "   \n",
    "    1) Allows heterogenous data columns\n",
    "\n",
    "    2) Label-based indexing that allows for convenient and efficient SQL-like joins, grouping, and index-alignment.\n",
    "\n",
    "    3) Rich functionality for working with time series.\n",
    "\n"
   ]
  },
  {
   "cell_type": "code",
   "execution_count": 22,
   "metadata": {
    "collapsed": true
   },
   "outputs": [],
   "source": [
    "import numpy as np\n",
    "import pandas as pd\n",
    "import matplotlib.pyplot as plt\n",
    "from pandas_datareader import data\n",
    "\n",
    "%matplotlib inline"
   ]
  },
  {
   "cell_type": "markdown",
   "metadata": {},
   "source": [
    "## Core Data Structures\n",
    "\n",
    "### Dataframe\n",
    "\n",
    "The DataFrame is the core datastructure of pandas. It is basically analogous to a spreadsheet with rows and columns, but it comes with a lot of functionality that makes it very useful for data analysis. \n",
    "\n",
    "### Series\n",
    "\n",
    "The pandas Series is similar to a DataFrame with the exception that it is only one-dimensional. In fact, one can think of a DataFrame as having columns made up of multiple Series."
   ]
  },
  {
   "cell_type": "code",
   "execution_count": 17,
   "metadata": {},
   "outputs": [
    {
     "data": {
      "text/plain": [
       "AAPL     1\n",
       "GOOGL    2\n",
       "INTC     3\n",
       "QCOM     5\n",
       "NVDA     1\n",
       "dtype: int64"
      ]
     },
     "execution_count": 17,
     "metadata": {},
     "output_type": "execute_result"
    }
   ],
   "source": [
    "series = pd.Series([1,2,3,5,1], index=['AAPL', 'GOOGL', 'INTC', 'QCOM', 'NVDA'])\n",
    "series"
   ]
  },
  {
   "cell_type": "code",
   "execution_count": 38,
   "metadata": {},
   "outputs": [
    {
     "data": {
      "text/html": [
       "<div>\n",
       "<style scoped>\n",
       "    .dataframe tbody tr th:only-of-type {\n",
       "        vertical-align: middle;\n",
       "    }\n",
       "\n",
       "    .dataframe tbody tr th {\n",
       "        vertical-align: top;\n",
       "    }\n",
       "\n",
       "    .dataframe thead th {\n",
       "        text-align: right;\n",
       "    }\n",
       "</style>\n",
       "<table border=\"1\" class=\"dataframe\">\n",
       "  <thead>\n",
       "    <tr style=\"text-align: right;\">\n",
       "      <th></th>\n",
       "      <th>a</th>\n",
       "      <th>b</th>\n",
       "      <th>c</th>\n",
       "    </tr>\n",
       "  </thead>\n",
       "  <tbody>\n",
       "    <tr>\n",
       "      <th>A</th>\n",
       "      <td>4</td>\n",
       "      <td>1.0</td>\n",
       "      <td>0</td>\n",
       "    </tr>\n",
       "    <tr>\n",
       "      <th>B</th>\n",
       "      <td>6</td>\n",
       "      <td>3.5</td>\n",
       "      <td>1</td>\n",
       "    </tr>\n",
       "    <tr>\n",
       "      <th>C</th>\n",
       "      <td>7</td>\n",
       "      <td>7.0</td>\n",
       "      <td>2</td>\n",
       "    </tr>\n",
       "    <tr>\n",
       "      <th>D</th>\n",
       "      <td>2</td>\n",
       "      <td>2.0</td>\n",
       "      <td>3</td>\n",
       "    </tr>\n",
       "    <tr>\n",
       "      <th>E</th>\n",
       "      <td>8</td>\n",
       "      <td>1.0</td>\n",
       "      <td>4</td>\n",
       "    </tr>\n",
       "  </tbody>\n",
       "</table>\n",
       "</div>"
      ],
      "text/plain": [
       "   a    b  c\n",
       "A  4  1.0  0\n",
       "B  6  3.5  1\n",
       "C  7  7.0  2\n",
       "D  2  2.0  3\n",
       "E  8  1.0  4"
      ]
     },
     "execution_count": 38,
     "metadata": {},
     "output_type": "execute_result"
    }
   ],
   "source": [
    "np.random.seed(25)\n",
    "\n",
    "df = pd.DataFrame({'a':np.random.randint(0,10,5), \n",
    "                   'b': [1,3.5,7,2,1],\n",
    "                   'c': np.arange(5),\n",
    "                  }, \n",
    "                  index=['A', 'B', 'C', 'D', 'E'])\n",
    "df"
   ]
  },
  {
   "cell_type": "markdown",
   "metadata": {},
   "source": [
    "## Slicing and Indexing\n",
    "\n",
    "Getting columns and rows of a dataframe is very similar to that of fetching data from lists and dictionaries in base python. Pandas provides two selection attributes to its data structures, iloc and loc, that allow the user to select rows and columns"
   ]
  },
  {
   "cell_type": "markdown",
   "metadata": {},
   "source": [
    "   1) Slicing of dataframe with **\\__getslice\\__** automatically slices rows.\n",
    "       - Ex: df[0:3] gets rows 0, 1, and 2.\n",
    "   2) Indexing with **\\__getitem\\__** automatically gets the column with the given LABEL (will not work with integer index).\n",
    "       - Ex: df['b'] will fetch the column labeled b.\n",
    "   3) In slicing rows and/or columns with labels (start_label : end_label), pandas includes BOTH the start and end.\n",
    "       - Ex: df.loc[:, 'a':'c']  will fetch all rows for columns 'a', columns 'c', and any columns between those two.\n",
    "   4) In slicing rows and/or columns with integer indices (start : end), pandas follows the normal python practice of including the start index but NOT including the end index.\n",
    "       - Ex: df.iloc[1:3, :]  will fetch all columns for rows 1 and 2."
   ]
  },
  {
   "cell_type": "code",
   "execution_count": 8,
   "metadata": {},
   "outputs": [
    {
     "data": {
      "text/html": [
       "<div>\n",
       "<style scoped>\n",
       "    .dataframe tbody tr th:only-of-type {\n",
       "        vertical-align: middle;\n",
       "    }\n",
       "\n",
       "    .dataframe tbody tr th {\n",
       "        vertical-align: top;\n",
       "    }\n",
       "\n",
       "    .dataframe thead th {\n",
       "        text-align: right;\n",
       "    }\n",
       "</style>\n",
       "<table border=\"1\" class=\"dataframe\">\n",
       "  <thead>\n",
       "    <tr style=\"text-align: right;\">\n",
       "      <th></th>\n",
       "      <th>a</th>\n",
       "      <th>b</th>\n",
       "    </tr>\n",
       "  </thead>\n",
       "  <tbody>\n",
       "    <tr>\n",
       "      <th>A</th>\n",
       "      <td>4</td>\n",
       "      <td>1.0</td>\n",
       "    </tr>\n",
       "    <tr>\n",
       "      <th>B</th>\n",
       "      <td>6</td>\n",
       "      <td>3.5</td>\n",
       "    </tr>\n",
       "    <tr>\n",
       "      <th>C</th>\n",
       "      <td>7</td>\n",
       "      <td>7.0</td>\n",
       "    </tr>\n",
       "    <tr>\n",
       "      <th>D</th>\n",
       "      <td>2</td>\n",
       "      <td>2.0</td>\n",
       "    </tr>\n",
       "    <tr>\n",
       "      <th>E</th>\n",
       "      <td>8</td>\n",
       "      <td>1.0</td>\n",
       "    </tr>\n",
       "  </tbody>\n",
       "</table>\n",
       "</div>"
      ],
      "text/plain": [
       "   a    b\n",
       "A  4  1.0\n",
       "B  6  3.5\n",
       "C  7  7.0\n",
       "D  2  2.0\n",
       "E  8  1.0"
      ]
     },
     "execution_count": 8,
     "metadata": {},
     "output_type": "execute_result"
    }
   ],
   "source": [
    "# Slice Columns\n",
    "df.loc[:,'a':'b']"
   ]
  },
  {
   "cell_type": "markdown",
   "metadata": {},
   "source": [
    "## Time Series Data"
   ]
  },
  {
   "cell_type": "code",
   "execution_count": 71,
   "metadata": {},
   "outputs": [
    {
     "data": {
      "text/html": [
       "<div>\n",
       "<style scoped>\n",
       "    .dataframe tbody tr th:only-of-type {\n",
       "        vertical-align: middle;\n",
       "    }\n",
       "\n",
       "    .dataframe tbody tr th {\n",
       "        vertical-align: top;\n",
       "    }\n",
       "\n",
       "    .dataframe thead th {\n",
       "        text-align: right;\n",
       "    }\n",
       "</style>\n",
       "<table border=\"1\" class=\"dataframe\">\n",
       "  <thead>\n",
       "    <tr style=\"text-align: right;\">\n",
       "      <th></th>\n",
       "      <th>a</th>\n",
       "      <th>b</th>\n",
       "      <th>c</th>\n",
       "      <th>d</th>\n",
       "    </tr>\n",
       "  </thead>\n",
       "  <tbody>\n",
       "    <tr>\n",
       "      <th>2016-01-31</th>\n",
       "      <td>0</td>\n",
       "      <td>0.377250</td>\n",
       "      <td>red</td>\n",
       "      <td>0.000000</td>\n",
       "    </tr>\n",
       "    <tr>\n",
       "      <th>2016-02-29</th>\n",
       "      <td>1</td>\n",
       "      <td>0.063457</td>\n",
       "      <td>red</td>\n",
       "      <td>2.837166</td>\n",
       "    </tr>\n",
       "    <tr>\n",
       "      <th>2016-03-31</th>\n",
       "      <td>2</td>\n",
       "      <td>0.373199</td>\n",
       "      <td>red</td>\n",
       "      <td>4.915773</td>\n",
       "    </tr>\n",
       "    <tr>\n",
       "      <th>2016-04-30</th>\n",
       "      <td>3</td>\n",
       "      <td>0.074116</td>\n",
       "      <td>red</td>\n",
       "      <td>6.164595</td>\n",
       "    </tr>\n",
       "    <tr>\n",
       "      <th>2016-05-31</th>\n",
       "      <td>4</td>\n",
       "      <td>0.044442</td>\n",
       "      <td>red</td>\n",
       "      <td>7.264276</td>\n",
       "    </tr>\n",
       "  </tbody>\n",
       "</table>\n",
       "</div>"
      ],
      "text/plain": [
       "            a         b    c         d\n",
       "2016-01-31  0  0.377250  red  0.000000\n",
       "2016-02-29  1  0.063457  red  2.837166\n",
       "2016-03-31  2  0.373199  red  4.915773\n",
       "2016-04-30  3  0.074116  red  6.164595\n",
       "2016-05-31  4  0.044442  red  7.264276"
      ]
     },
     "execution_count": 71,
     "metadata": {},
     "output_type": "execute_result"
    }
   ],
   "source": [
    "index = pd.DatetimeIndex(start='2016-01-01', periods=20, freq='m')\n",
    "df = pd.DataFrame({'a': np.arange(20), \n",
    "                   'b': np.random.random(20), \n",
    "                   'c':['red']*15 + ['blue']*5,\n",
    "                   'd': np.sin(10*np.pi*np.linspace(0,50,20)) + 2 * np.arange(20) },\n",
    "                  index=index)\n",
    "df.head()"
   ]
  },
  {
   "cell_type": "code",
   "execution_count": 72,
   "metadata": {},
   "outputs": [
    {
     "data": {
      "text/plain": [
       "<matplotlib.axes._subplots.AxesSubplot at 0xdad3358>"
      ]
     },
     "execution_count": 72,
     "metadata": {},
     "output_type": "execute_result"
    },
    {
     "data": {
      "image/png": "[encoded data removed]",
      "text/plain": [
       "<matplotlib.figure.Figure at 0xdb47cf8>"
      ]
     },
     "metadata": {},
     "output_type": "display_data"
    }
   ],
   "source": [
    "df.d.plot()"
   ]
  },
  {
   "cell_type": "code",
   "execution_count": 61,
   "metadata": {},
   "outputs": [
    {
     "data": {
      "text/html": [
       "<div>\n",
       "<style scoped>\n",
       "    .dataframe tbody tr th:only-of-type {\n",
       "        vertical-align: middle;\n",
       "    }\n",
       "\n",
       "    .dataframe tbody tr th {\n",
       "        vertical-align: top;\n",
       "    }\n",
       "\n",
       "    .dataframe thead th {\n",
       "        text-align: right;\n",
       "    }\n",
       "</style>\n",
       "<table border=\"1\" class=\"dataframe\">\n",
       "  <thead>\n",
       "    <tr style=\"text-align: right;\">\n",
       "      <th></th>\n",
       "      <th>a</th>\n",
       "      <th>b</th>\n",
       "      <th>c</th>\n",
       "      <th>d</th>\n",
       "    </tr>\n",
       "  </thead>\n",
       "  <tbody>\n",
       "    <tr>\n",
       "      <th>2016-06-30</th>\n",
       "      <td>5</td>\n",
       "      <td>0.766486</td>\n",
       "      <td>red</td>\n",
       "      <td>10.707107</td>\n",
       "    </tr>\n",
       "    <tr>\n",
       "      <th>2016-07-31</th>\n",
       "      <td>6</td>\n",
       "      <td>0.076742</td>\n",
       "      <td>red</td>\n",
       "      <td>12.809017</td>\n",
       "    </tr>\n",
       "    <tr>\n",
       "      <th>2016-08-31</th>\n",
       "      <td>7</td>\n",
       "      <td>0.331044</td>\n",
       "      <td>red</td>\n",
       "      <td>14.891007</td>\n",
       "    </tr>\n",
       "    <tr>\n",
       "      <th>2016-09-30</th>\n",
       "      <td>8</td>\n",
       "      <td>0.679852</td>\n",
       "      <td>red</td>\n",
       "      <td>16.951057</td>\n",
       "    </tr>\n",
       "    <tr>\n",
       "      <th>2016-10-31</th>\n",
       "      <td>9</td>\n",
       "      <td>0.509213</td>\n",
       "      <td>red</td>\n",
       "      <td>18.987688</td>\n",
       "    </tr>\n",
       "    <tr>\n",
       "      <th>2016-11-30</th>\n",
       "      <td>10</td>\n",
       "      <td>0.655146</td>\n",
       "      <td>red</td>\n",
       "      <td>21.000000</td>\n",
       "    </tr>\n",
       "    <tr>\n",
       "      <th>2016-12-31</th>\n",
       "      <td>11</td>\n",
       "      <td>0.602120</td>\n",
       "      <td>red</td>\n",
       "      <td>22.987688</td>\n",
       "    </tr>\n",
       "    <tr>\n",
       "      <th>2017-01-31</th>\n",
       "      <td>12</td>\n",
       "      <td>0.719055</td>\n",
       "      <td>red</td>\n",
       "      <td>24.951057</td>\n",
       "    </tr>\n",
       "    <tr>\n",
       "      <th>2017-02-28</th>\n",
       "      <td>13</td>\n",
       "      <td>0.415219</td>\n",
       "      <td>red</td>\n",
       "      <td>26.891007</td>\n",
       "    </tr>\n",
       "    <tr>\n",
       "      <th>2017-03-31</th>\n",
       "      <td>14</td>\n",
       "      <td>0.396542</td>\n",
       "      <td>red</td>\n",
       "      <td>28.809017</td>\n",
       "    </tr>\n",
       "    <tr>\n",
       "      <th>2017-04-30</th>\n",
       "      <td>15</td>\n",
       "      <td>0.825139</td>\n",
       "      <td>blue</td>\n",
       "      <td>30.707107</td>\n",
       "    </tr>\n",
       "    <tr>\n",
       "      <th>2017-05-31</th>\n",
       "      <td>16</td>\n",
       "      <td>0.712552</td>\n",
       "      <td>blue</td>\n",
       "      <td>32.587785</td>\n",
       "    </tr>\n",
       "    <tr>\n",
       "      <th>2017-06-30</th>\n",
       "      <td>17</td>\n",
       "      <td>0.097937</td>\n",
       "      <td>blue</td>\n",
       "      <td>34.453990</td>\n",
       "    </tr>\n",
       "    <tr>\n",
       "      <th>2017-07-31</th>\n",
       "      <td>18</td>\n",
       "      <td>0.842154</td>\n",
       "      <td>blue</td>\n",
       "      <td>36.309017</td>\n",
       "    </tr>\n",
       "    <tr>\n",
       "      <th>2017-08-31</th>\n",
       "      <td>19</td>\n",
       "      <td>0.440821</td>\n",
       "      <td>blue</td>\n",
       "      <td>38.156434</td>\n",
       "    </tr>\n",
       "  </tbody>\n",
       "</table>\n",
       "</div>"
      ],
      "text/plain": [
       "             a         b     c          d\n",
       "2016-06-30   5  0.766486   red  10.707107\n",
       "2016-07-31   6  0.076742   red  12.809017\n",
       "2016-08-31   7  0.331044   red  14.891007\n",
       "2016-09-30   8  0.679852   red  16.951057\n",
       "2016-10-31   9  0.509213   red  18.987688\n",
       "2016-11-30  10  0.655146   red  21.000000\n",
       "2016-12-31  11  0.602120   red  22.987688\n",
       "2017-01-31  12  0.719055   red  24.951057\n",
       "2017-02-28  13  0.415219   red  26.891007\n",
       "2017-03-31  14  0.396542   red  28.809017\n",
       "2017-04-30  15  0.825139  blue  30.707107\n",
       "2017-05-31  16  0.712552  blue  32.587785\n",
       "2017-06-30  17  0.097937  blue  34.453990\n",
       "2017-07-31  18  0.842154  blue  36.309017\n",
       "2017-08-31  19  0.440821  blue  38.156434"
      ]
     },
     "execution_count": 61,
     "metadata": {},
     "output_type": "execute_result"
    }
   ],
   "source": [
    "df.loc['2016-6':'2017', :]"
   ]
  },
  {
   "cell_type": "code",
   "execution_count": 25,
   "metadata": {},
   "outputs": [
    {
     "data": {
      "image/png": "[encoded data removed]",
      "text/plain": [
       "<matplotlib.figure.Figure at 0xc0c1f28>"
      ]
     },
     "metadata": {},
     "output_type": "display_data"
    }
   ],
   "source": [
    "df.b.hist();"
   ]
  },
  {
   "cell_type": "code",
   "execution_count": 32,
   "metadata": {},
   "outputs": [
    {
     "data": {
      "text/plain": [
       "<matplotlib.axes._subplots.AxesSubplot at 0xc26d3c8>"
      ]
     },
     "execution_count": 32,
     "metadata": {},
     "output_type": "execute_result"
    },
    {
     "data": {
      "image/png": "[encoded data removed]",
      "text/plain": [
       "<matplotlib.figure.Figure at 0xbdebcc0>"
      ]
     },
     "metadata": {},
     "output_type": "display_data"
    }
   ],
   "source": [
    "df.c.value_counts().plot(kind='bar')"
   ]
  },
  {
   "cell_type": "markdown",
   "metadata": {},
   "source": [
    "## Portfolio Standard Devation"
   ]
  },
  {
   "cell_type": "code",
   "execution_count": 43,
   "metadata": {},
   "outputs": [
    {
     "data": {
      "text/html": [
       "<div>\n",
       "<table border=\"1\" class=\"dataframe\">\n",
       "  <thead>\n",
       "    <tr style=\"text-align: right;\">\n",
       "      <th></th>\n",
       "      <th>ACWX</th>\n",
       "      <th>GLD</th>\n",
       "      <th>SPY</th>\n",
       "      <th>TLT</th>\n",
       "    </tr>\n",
       "    <tr>\n",
       "      <th>Date</th>\n",
       "      <th></th>\n",
       "      <th></th>\n",
       "      <th></th>\n",
       "      <th></th>\n",
       "    </tr>\n",
       "  </thead>\n",
       "  <tbody>\n",
       "    <tr>\n",
       "      <th>2008-04-01</th>\n",
       "      <td>41.184235</td>\n",
       "      <td>86.860001</td>\n",
       "      <td>111.954422</td>\n",
       "      <td>69.399727</td>\n",
       "    </tr>\n",
       "    <tr>\n",
       "      <th>2008-04-02</th>\n",
       "      <td>41.585171</td>\n",
       "      <td>89.269997</td>\n",
       "      <td>112.028183</td>\n",
       "      <td>69.547478</td>\n",
       "    </tr>\n",
       "    <tr>\n",
       "      <th>2008-04-03</th>\n",
       "      <td>41.954033</td>\n",
       "      <td>89.419998</td>\n",
       "      <td>112.306839</td>\n",
       "      <td>69.702713</td>\n",
       "    </tr>\n",
       "    <tr>\n",
       "      <th>2008-04-04</th>\n",
       "      <td>42.058277</td>\n",
       "      <td>90.250000</td>\n",
       "      <td>112.183899</td>\n",
       "      <td>70.338074</td>\n",
       "    </tr>\n",
       "    <tr>\n",
       "      <th>2008-04-07</th>\n",
       "      <td>42.266762</td>\n",
       "      <td>91.169998</td>\n",
       "      <td>112.241287</td>\n",
       "      <td>69.968643</td>\n",
       "    </tr>\n",
       "  </tbody>\n",
       "</table>\n",
       "</div>"
      ],
      "text/plain": [
       "                 ACWX        GLD         SPY        TLT\n",
       "Date                                                   \n",
       "2008-04-01  41.184235  86.860001  111.954422  69.399727\n",
       "2008-04-02  41.585171  89.269997  112.028183  69.547478\n",
       "2008-04-03  41.954033  89.419998  112.306839  69.702713\n",
       "2008-04-04  42.058277  90.250000  112.183899  70.338074\n",
       "2008-04-07  42.266762  91.169998  112.241287  69.968643"
      ]
     },
     "execution_count": 43,
     "metadata": {},
     "output_type": "execute_result"
    }
   ],
   "source": [
    "symbols = ['SPY', 'GLD', 'TLT', 'ACWX']\n",
    "weights = pd.Series([0.4, 0.05, 0.3, 0.25 ], index=symbols)\n",
    "prices = data.DataReader(symbols, 'yahoo', start='2008-04-01', end='2017-01-01')['Adj Close']\n",
    "\n",
    "prices.sort_index(inplace=True)\n",
    "prices.head()\n"
   ]
  },
  {
   "cell_type": "code",
   "execution_count": 45,
   "metadata": {},
   "outputs": [
    {
     "data": {
      "text/html": [
       "<div>\n",
       "<table border=\"1\" class=\"dataframe\">\n",
       "  <thead>\n",
       "    <tr style=\"text-align: right;\">\n",
       "      <th></th>\n",
       "      <th>ACWX</th>\n",
       "      <th>GLD</th>\n",
       "      <th>SPY</th>\n",
       "      <th>TLT</th>\n",
       "    </tr>\n",
       "    <tr>\n",
       "      <th>Date</th>\n",
       "      <th></th>\n",
       "      <th></th>\n",
       "      <th></th>\n",
       "      <th></th>\n",
       "    </tr>\n",
       "  </thead>\n",
       "  <tbody>\n",
       "    <tr>\n",
       "      <th>2008-04-02</th>\n",
       "      <td>0.009735</td>\n",
       "      <td>0.027746</td>\n",
       "      <td>0.000659</td>\n",
       "      <td>0.002129</td>\n",
       "    </tr>\n",
       "    <tr>\n",
       "      <th>2008-04-03</th>\n",
       "      <td>0.008870</td>\n",
       "      <td>0.001680</td>\n",
       "      <td>0.002487</td>\n",
       "      <td>0.002232</td>\n",
       "    </tr>\n",
       "    <tr>\n",
       "      <th>2008-04-04</th>\n",
       "      <td>0.002485</td>\n",
       "      <td>0.009282</td>\n",
       "      <td>-0.001095</td>\n",
       "      <td>0.009115</td>\n",
       "    </tr>\n",
       "    <tr>\n",
       "      <th>2008-04-07</th>\n",
       "      <td>0.004957</td>\n",
       "      <td>0.010194</td>\n",
       "      <td>0.000512</td>\n",
       "      <td>-0.005252</td>\n",
       "    </tr>\n",
       "    <tr>\n",
       "      <th>2008-04-08</th>\n",
       "      <td>-0.004743</td>\n",
       "      <td>-0.008994</td>\n",
       "      <td>-0.001022</td>\n",
       "      <td>-0.003484</td>\n",
       "    </tr>\n",
       "  </tbody>\n",
       "</table>\n",
       "</div>"
      ],
      "text/plain": [
       "                ACWX       GLD       SPY       TLT\n",
       "Date                                              \n",
       "2008-04-02  0.009735  0.027746  0.000659  0.002129\n",
       "2008-04-03  0.008870  0.001680  0.002487  0.002232\n",
       "2008-04-04  0.002485  0.009282 -0.001095  0.009115\n",
       "2008-04-07  0.004957  0.010194  0.000512 -0.005252\n",
       "2008-04-08 -0.004743 -0.008994 -0.001022 -0.003484"
      ]
     },
     "execution_count": 45,
     "metadata": {},
     "output_type": "execute_result"
    }
   ],
   "source": [
    "returns = prices.pct_change(1)[1:]\n",
    "returns.head()"
   ]
  },
  {
   "cell_type": "code",
   "execution_count": 50,
   "metadata": {},
   "outputs": [
    {
     "data": {
      "text/html": [
       "<div>\n",
       "<table border=\"1\" class=\"dataframe\">\n",
       "  <thead>\n",
       "    <tr style=\"text-align: right;\">\n",
       "      <th></th>\n",
       "      <th>ACWX</th>\n",
       "      <th>GLD</th>\n",
       "      <th>SPY</th>\n",
       "      <th>TLT</th>\n",
       "    </tr>\n",
       "  </thead>\n",
       "  <tbody>\n",
       "    <tr>\n",
       "      <th>ACWX</th>\n",
       "      <td>0.000137</td>\n",
       "      <td>0.000011</td>\n",
       "      <td>0.000099</td>\n",
       "      <td>-0.000053</td>\n",
       "    </tr>\n",
       "    <tr>\n",
       "      <th>GLD</th>\n",
       "      <td>0.000011</td>\n",
       "      <td>0.000119</td>\n",
       "      <td>-0.000002</td>\n",
       "      <td>0.000018</td>\n",
       "    </tr>\n",
       "    <tr>\n",
       "      <th>SPY</th>\n",
       "      <td>0.000099</td>\n",
       "      <td>-0.000002</td>\n",
       "      <td>0.000089</td>\n",
       "      <td>-0.000045</td>\n",
       "    </tr>\n",
       "    <tr>\n",
       "      <th>TLT</th>\n",
       "      <td>-0.000053</td>\n",
       "      <td>0.000018</td>\n",
       "      <td>-0.000045</td>\n",
       "      <td>0.000086</td>\n",
       "    </tr>\n",
       "  </tbody>\n",
       "</table>\n",
       "</div>"
      ],
      "text/plain": [
       "          ACWX       GLD       SPY       TLT\n",
       "ACWX  0.000137  0.000011  0.000099 -0.000053\n",
       "GLD   0.000011  0.000119 -0.000002  0.000018\n",
       "SPY   0.000099 -0.000002  0.000089 -0.000045\n",
       "TLT  -0.000053  0.000018 -0.000045  0.000086"
      ]
     },
     "execution_count": 50,
     "metadata": {},
     "output_type": "execute_result"
    }
   ],
   "source": [
    "cov_matrix = returns['2011':].cov()\n",
    "cov_matrix.head()"
   ]
  },
  {
   "cell_type": "code",
   "execution_count": 51,
   "metadata": {},
   "outputs": [
    {
     "data": {
      "text/plain": [
       "0.090699055213864746"
      ]
     },
     "execution_count": 51,
     "metadata": {},
     "output_type": "execute_result"
    }
   ],
   "source": [
    "port_variance = weights.dot(cov_matrix).dot(weights)\n",
    "std_dev = np.sqrt(port_variance)\n",
    "\n",
    "std_dev*np.sqrt(252)"
   ]
  },
  {
   "cell_type": "code",
   "execution_count": 32,
   "metadata": {},
   "outputs": [
    {
     "data": {
      "text/plain": [
       "array([ 0.00407305,  0.00247456,  0.00284877,  0.00154113])"
      ]
     },
     "execution_count": 32,
     "metadata": {},
     "output_type": "execute_result"
    }
   ],
   "source": [
    "np.diag(cov_matrix)*np.sqrt(252)"
   ]
  },
  {
   "cell_type": "code",
   "execution_count": null,
   "metadata": {
    "collapsed": true
   },
   "outputs": [],
   "source": []
  },
  {
   "cell_type": "code",
   "execution_count": null,
   "metadata": {
    "collapsed": true
   },
   "outputs": [],
   "source": []
  },
  {
   "cell_type": "code",
   "execution_count": null,
   "metadata": {
    "collapsed": true
   },
   "outputs": [],
   "source": []
  }
 ],
 "metadata": {
  "anaconda-cloud": {},
  "kernelspec": {
   "display_name": "Python [conda root]",
   "language": "python",
   "name": "conda-root-py"
  },
  "language_info": {
   "codemirror_mode": {
    "name": "ipython",
    "version": 2
   },
   "file_extension": ".py",
   "mimetype": "text/x-python",
   "name": "python",
   "nbconvert_exporter": "python",
   "pygments_lexer": "ipython2",
   "version": "2.7.14"
  }
 },
 "nbformat": 4,
 "nbformat_minor": 2
}
