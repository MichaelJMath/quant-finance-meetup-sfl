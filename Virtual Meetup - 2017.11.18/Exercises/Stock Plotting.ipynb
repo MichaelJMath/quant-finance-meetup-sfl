{
 "cells": [
  {
   "cell_type": "code",
   "execution_count": null,
   "metadata": {
    "collapsed": true
   },
   "outputs": [],
   "source": [
    "import numpy as np\n",
    "import pandas as pd\n",
    "import matplotlib.pyplot as plt\n",
    "from pandas_datareader import data\n",
    "\n",
    "%matplotlib inline"
   ]
  },
  {
   "cell_type": "code",
   "execution_count": null,
   "metadata": {},
   "outputs": [],
   "source": [
    "# Download some stock price data\n",
    "start_date = '2000-01-01'\n",
    "end_date =  pd.datetime.today()\n",
    "spy = data.DataReader('SPY', 'yahoo', start_date, end_date)\n",
    "spy.head()"
   ]
  },
  {
   "cell_type": "markdown",
   "metadata": {},
   "source": [
    "## Exercise \n",
    "\n",
    "    1) Generate a line plot of the adjusted closing price.\n",
    "    2) Add a 200-day moving average onto the plot.\n",
    "    3) Create a volume subplot that is half the size of the main plot (use bars).\n",
    "    4) create a subplot that is half the size of the main plot that contains the rolling 50 day returns of price.\n",
    "    5) Plot a marker on the main plot where 50-day returns were greater than 15%."
   ]
  },
  {
   "cell_type": "code",
   "execution_count": null,
   "metadata": {},
   "outputs": [],
   "source": [
    "# %load ../Solutions/stock_plotting.py"
   ]
  },
  {
   "cell_type": "code",
   "execution_count": null,
   "metadata": {
    "collapsed": true
   },
   "outputs": [],
   "source": []
  }
 ],
 "metadata": {
  "kernelspec": {
   "display_name": "Python [conda root]",
   "language": "python",
   "name": "conda-root-py"
  },
  "language_info": {
   "codemirror_mode": {
    "name": "ipython",
    "version": 2
   },
   "file_extension": ".py",
   "mimetype": "text/x-python",
   "name": "python",
   "nbconvert_exporter": "python",
   "pygments_lexer": "ipython2",
   "version": "2.7.14"
  }
 },
 "nbformat": 4,
 "nbformat_minor": 2
}
