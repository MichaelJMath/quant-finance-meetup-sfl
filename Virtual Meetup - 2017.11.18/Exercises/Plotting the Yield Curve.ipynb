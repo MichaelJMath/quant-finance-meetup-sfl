{
 "cells": [
  {
   "cell_type": "code",
   "execution_count": null,
   "metadata": {
    "collapsed": true
   },
   "outputs": [],
   "source": [
    "import numpy as np\n",
    "import pandas as pd\n",
    "import matplotlib.pyplot as plt\n",
    "from pandas_datareader import data\n",
    "\n",
    "%matplotlib inline"
   ]
  },
  {
   "cell_type": "markdown",
   "metadata": {},
   "source": [
    "### FRED Data Identifiers\n",
    "\n",
    "The following are the identifiers that we will use to download the treasury yields from the FRED database. \n",
    "\n",
    "    1) 6-Mo Const. Maturity Rate: DGS6MO\n",
    "    2) 1-Year Const. Maturity Rate: DGS1 \n",
    "    3) 2-Year Const. Maturity Rate: DGS2\n",
    "    4) 3-Year Const. Maturity Rate: DGS3\n",
    "    5) 5-Year Const. Maturity Rate: DGS5\n",
    "    6) 7-Year Const. Maturity Rate: DGS7\n",
    "    7) 10-Year Const. Maturity Rate: DGS10\n",
    "    8) 20-Year Const. Maturity Rate: DGS20\n",
    "    9) 30-Year Const. Matuirty Rate: DGS30\n"
   ]
  },
  {
   "cell_type": "markdown",
   "metadata": {},
   "source": [
    "### Starter Code to Download the Data"
   ]
  },
  {
   "cell_type": "code",
   "execution_count": null,
   "metadata": {
    "collapsed": true
   },
   "outputs": [],
   "source": [
    "# First, store FRED IDs in a dictionary key = maturity (in years), value = yield\n",
    "ids_const_maturity_rate = {.5: 'DGS6MO'}\n",
    "col_names = ['6-MO']\n",
    "maturities=[0.5,1,3,5,7,10,20,30]\n",
    "for i in maturities[1:]:\n",
    "    ids_const_maturity_rate[i] = 'DGS' + str(i) \n",
    "    col_names.append('%i-YR'%i)\n",
    "    "
   ]
  },
  {
   "cell_type": "code",
   "execution_count": null,
   "metadata": {
    "collapsed": true
   },
   "outputs": [],
   "source": [
    "# Download Data from FRED API including all NANs\n",
    "start_date = '2000-01-01'\n",
    "end_date = pd.datetime.today()\n",
    "\n",
    "yields = data.DataReader(ids_const_maturity_rate.values(), 'fred', start_date, end_date)\n",
    "yields.columns = col_names\n",
    "yields.head()"
   ]
  },
  {
   "cell_type": "markdown",
   "metadata": {},
   "source": [
    "## Create your plots\n",
    "\n",
    "Note: You can uncomment the lines that contain %load and run those cells to see a solution."
   ]
  },
  {
   "cell_type": "markdown",
   "metadata": {},
   "source": [
    "## Example 1: Plot Yield Curve for a Single Date\n",
    "\n",
    "Plot the yield curve for a single given date using both matplotlib.pyplot and pandas plotting methods.\n",
    "\n",
    "REMEMBER: Make sure the maturities on the x-axis are appropriately spaced."
   ]
  },
  {
   "cell_type": "code",
   "execution_count": null,
   "metadata": {
    "collapsed": true
   },
   "outputs": [],
   "source": [
    "date = '2017-11-15'"
   ]
  },
  {
   "cell_type": "code",
   "execution_count": null,
   "metadata": {
    "collapsed": true
   },
   "outputs": [],
   "source": [
    "# Your Code Here - Use matplotlib.pyplot"
   ]
  },
  {
   "cell_type": "code",
   "execution_count": null,
   "metadata": {
    "collapsed": true
   },
   "outputs": [],
   "source": [
    "# %load ../Solutions/yield_curve_1a.py\n"
   ]
  },
  {
   "cell_type": "code",
   "execution_count": null,
   "metadata": {
    "collapsed": true
   },
   "outputs": [],
   "source": [
    "# Your Code Here - Use Pandas"
   ]
  },
  {
   "cell_type": "code",
   "execution_count": null,
   "metadata": {
    "collapsed": true
   },
   "outputs": [],
   "source": [
    "# %load ../Solutions/yield_curve_1b.py\n"
   ]
  },
  {
   "cell_type": "markdown",
   "metadata": {},
   "source": [
    "## Example 2: Multiple Yield Curves on One Plot\n",
    "\n",
    "Plot Multiple Yield curves on one plot (one for each of the given dates). Use whatever method you'd like.\n",
    "\n",
    "    1) Include a legend that gives the date."
   ]
  },
  {
   "cell_type": "code",
   "execution_count": null,
   "metadata": {
    "collapsed": true
   },
   "outputs": [],
   "source": [
    "dates = ['2008-01-02', '2009-01-02', '2010-01-04', '2011-01-03']"
   ]
  },
  {
   "cell_type": "code",
   "execution_count": null,
   "metadata": {
    "collapsed": true
   },
   "outputs": [],
   "source": [
    "# %load ../Solutions/yield_curve_2.py"
   ]
  },
  {
   "cell_type": "code",
   "execution_count": null,
   "metadata": {
    "collapsed": true
   },
   "outputs": [],
   "source": []
  },
  {
   "cell_type": "markdown",
   "metadata": {},
   "source": [
    "## Example 3: Plot the Mean and Range for the Month of November 2016\n",
    "\n",
    "Plot the mean of each maturity and shade the area between the max and min values."
   ]
  },
  {
   "cell_type": "code",
   "execution_count": null,
   "metadata": {
    "collapsed": true
   },
   "outputs": [],
   "source": [
    "# %load ../Solutions/yield_curve_3.py"
   ]
  },
  {
   "cell_type": "code",
   "execution_count": null,
   "metadata": {
    "collapsed": true
   },
   "outputs": [],
   "source": []
  }
 ],
 "metadata": {
  "kernelspec": {
   "display_name": "Python [conda root]",
   "language": "python",
   "name": "conda-root-py"
  },
  "language_info": {
   "codemirror_mode": {
    "name": "ipython",
    "version": 2
   },
   "file_extension": ".py",
   "mimetype": "text/x-python",
   "name": "python",
   "nbconvert_exporter": "python",
   "pygments_lexer": "ipython2",
   "version": "2.7.14"
  }
 },
 "nbformat": 4,
 "nbformat_minor": 2
}
